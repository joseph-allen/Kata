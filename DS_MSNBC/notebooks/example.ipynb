{
 "cells": [
  {
   "cell_type": "code",
   "execution_count": 2,
   "metadata": {},
   "outputs": [],
   "source": [
    "# Ignore warnings\n",
    "import warnings\n",
    "warnings.filterwarnings('ignore')\n",
    "\n",
    "# Handle table-like data and matrices\n",
    "import numpy as np\n",
    "import pandas as pd\n",
    "\n",
    "# Visualisation\n",
    "import matplotlib as mpl\n",
    "import matplotlib.pyplot as plt\n",
    "import matplotlib.pylab as pylab\n",
    "import seaborn as sns\n",
    "\n",
    "# Configure visualisations\n",
    "%matplotlib inline\n",
    "# mpl.style.use( 'ggplot' )\n",
    "sns.set_style( 'white' )\n",
    "pylab.rcParams[ 'figure.figsize' ] = 8 , 6"
   ]
  },
  {
   "cell_type": "code",
   "execution_count": 3,
   "metadata": {},
   "outputs": [],
   "source": [
    "# plot correlations for seeing how similar features are\n",
    "def plot_correlation_map(df):\n",
    "    corr = df.corr()\n",
    "    _, ax = plt.subplots(figsize=(12, 10))\n",
    "    cmap = sns.diverging_palette(220, 10, as_cmap=True)\n",
    "    _ = sns.heatmap(\n",
    "        corr,\n",
    "        cmap=cmap,\n",
    "        square=True,\n",
    "        cbar_kws={'shrink': .9},\n",
    "        ax=ax,\n",
    "        annot=True,\n",
    "        annot_kws={'fontsize': 12}\n",
    "    )"
   ]
  },
  {
   "cell_type": "code",
   "execution_count": 4,
   "metadata": {},
   "outputs": [
    {
     "data": {
      "text/html": [
       "<div>\n",
       "<style>\n",
       "    .dataframe thead tr:only-child th {\n",
       "        text-align: right;\n",
       "    }\n",
       "\n",
       "    .dataframe thead th {\n",
       "        text-align: left;\n",
       "    }\n",
       "\n",
       "    .dataframe tbody tr th {\n",
       "        vertical-align: top;\n",
       "    }\n",
       "</style>\n",
       "<table border=\"1\" class=\"dataframe\">\n",
       "  <thead>\n",
       "    <tr style=\"text-align: right;\">\n",
       "      <th></th>\n",
       "      <th>Sequences</th>\n",
       "    </tr>\n",
       "  </thead>\n",
       "  <tbody>\n",
       "    <tr>\n",
       "      <th>0</th>\n",
       "      <td>1 1</td>\n",
       "    </tr>\n",
       "    <tr>\n",
       "      <th>1</th>\n",
       "      <td>2</td>\n",
       "    </tr>\n",
       "    <tr>\n",
       "      <th>2</th>\n",
       "      <td>3 2 2 4 2 2 2 3 3</td>\n",
       "    </tr>\n",
       "    <tr>\n",
       "      <th>3</th>\n",
       "      <td>5</td>\n",
       "    </tr>\n",
       "    <tr>\n",
       "      <th>4</th>\n",
       "      <td>1</td>\n",
       "    </tr>\n",
       "  </tbody>\n",
       "</table>\n",
       "</div>"
      ],
      "text/plain": [
       "            Sequences\n",
       "0                1 1 \n",
       "1                  2 \n",
       "2  3 2 2 4 2 2 2 3 3 \n",
       "3                  5 \n",
       "4                  1 "
      ]
     },
     "execution_count": 4,
     "metadata": {},
     "output_type": "execute_result"
    }
   ],
   "source": [
    "# First we load in our dataset\n",
    "df = pd.read_csv('../data/raw/data.txt')\n",
    "df.head()"
   ]
  },
  {
   "cell_type": "code",
   "execution_count": 5,
   "metadata": {
    "scrolled": true
   },
   "outputs": [
    {
     "data": {
      "text/html": [
       "<div>\n",
       "<style>\n",
       "    .dataframe thead tr:only-child th {\n",
       "        text-align: right;\n",
       "    }\n",
       "\n",
       "    .dataframe thead th {\n",
       "        text-align: left;\n",
       "    }\n",
       "\n",
       "    .dataframe tbody tr th {\n",
       "        vertical-align: top;\n",
       "    }\n",
       "</style>\n",
       "<table border=\"1\" class=\"dataframe\">\n",
       "  <thead>\n",
       "    <tr style=\"text-align: right;\">\n",
       "      <th></th>\n",
       "      <th>Sequences</th>\n",
       "      <th>sequence_length</th>\n",
       "      <th>unique_sequence_length</th>\n",
       "    </tr>\n",
       "  </thead>\n",
       "  <tbody>\n",
       "    <tr>\n",
       "      <th>0</th>\n",
       "      <td>1 1</td>\n",
       "      <td>2</td>\n",
       "      <td>1</td>\n",
       "    </tr>\n",
       "    <tr>\n",
       "      <th>1</th>\n",
       "      <td>2</td>\n",
       "      <td>1</td>\n",
       "      <td>1</td>\n",
       "    </tr>\n",
       "    <tr>\n",
       "      <th>2</th>\n",
       "      <td>3 2 2 4 2 2 2 3 3</td>\n",
       "      <td>9</td>\n",
       "      <td>3</td>\n",
       "    </tr>\n",
       "    <tr>\n",
       "      <th>3</th>\n",
       "      <td>5</td>\n",
       "      <td>1</td>\n",
       "      <td>1</td>\n",
       "    </tr>\n",
       "    <tr>\n",
       "      <th>4</th>\n",
       "      <td>1</td>\n",
       "      <td>1</td>\n",
       "      <td>1</td>\n",
       "    </tr>\n",
       "    <tr>\n",
       "      <th>5</th>\n",
       "      <td>6</td>\n",
       "      <td>1</td>\n",
       "      <td>1</td>\n",
       "    </tr>\n",
       "    <tr>\n",
       "      <th>6</th>\n",
       "      <td>1 1</td>\n",
       "      <td>2</td>\n",
       "      <td>1</td>\n",
       "    </tr>\n",
       "    <tr>\n",
       "      <th>7</th>\n",
       "      <td>6</td>\n",
       "      <td>1</td>\n",
       "      <td>1</td>\n",
       "    </tr>\n",
       "    <tr>\n",
       "      <th>8</th>\n",
       "      <td>6 7 7 7 6 6 8 8 8 8</td>\n",
       "      <td>10</td>\n",
       "      <td>3</td>\n",
       "    </tr>\n",
       "    <tr>\n",
       "      <th>9</th>\n",
       "      <td>6 9 4 4 4 10 3 10 5 10 4 4 4</td>\n",
       "      <td>13</td>\n",
       "      <td>6</td>\n",
       "    </tr>\n",
       "  </tbody>\n",
       "</table>\n",
       "</div>"
      ],
      "text/plain": [
       "                       Sequences  sequence_length  unique_sequence_length\n",
       "0                           1 1                 2                       1\n",
       "1                             2                 1                       1\n",
       "2             3 2 2 4 2 2 2 3 3                 9                       3\n",
       "3                             5                 1                       1\n",
       "4                             1                 1                       1\n",
       "5                             6                 1                       1\n",
       "6                           1 1                 2                       1\n",
       "7                             6                 1                       1\n",
       "8           6 7 7 7 6 6 8 8 8 8                10                       3\n",
       "9  6 9 4 4 4 10 3 10 5 10 4 4 4                13                       6"
      ]
     },
     "execution_count": 5,
     "metadata": {},
     "output_type": "execute_result"
    }
   ],
   "source": [
    "# get lengths\n",
    "def get_length(input):\n",
    "    return len(input.split(' ')) - 1\n",
    "\n",
    "# get unique pages viewed\n",
    "def get_unique_length(input):\n",
    "    return len(set(input.split(' '))) - 1\n",
    "\n",
    "\n",
    "df['sequence_length'] = df['Sequences'].apply(get_length)\n",
    "df['unique_sequence_length'] = df['Sequences'].apply(get_unique_length)\n",
    "df.head(10)"
   ]
  },
  {
   "cell_type": "code",
   "execution_count": 6,
   "metadata": {},
   "outputs": [
    {
     "data": {
      "text/html": [
       "<div>\n",
       "<style>\n",
       "    .dataframe thead tr:only-child th {\n",
       "        text-align: right;\n",
       "    }\n",
       "\n",
       "    .dataframe thead th {\n",
       "        text-align: left;\n",
       "    }\n",
       "\n",
       "    .dataframe tbody tr th {\n",
       "        vertical-align: top;\n",
       "    }\n",
       "</style>\n",
       "<table border=\"1\" class=\"dataframe\">\n",
       "  <thead>\n",
       "    <tr style=\"text-align: right;\">\n",
       "      <th></th>\n",
       "      <th>sequence_length</th>\n",
       "      <th>unique_sequence_length</th>\n",
       "    </tr>\n",
       "  </thead>\n",
       "  <tbody>\n",
       "    <tr>\n",
       "      <th>count</th>\n",
       "      <td>989818.000000</td>\n",
       "      <td>989818.000000</td>\n",
       "    </tr>\n",
       "    <tr>\n",
       "      <th>mean</th>\n",
       "      <td>4.747129</td>\n",
       "      <td>1.716783</td>\n",
       "    </tr>\n",
       "    <tr>\n",
       "      <th>std</th>\n",
       "      <td>21.257389</td>\n",
       "      <td>1.191411</td>\n",
       "    </tr>\n",
       "    <tr>\n",
       "      <th>min</th>\n",
       "      <td>1.000000</td>\n",
       "      <td>1.000000</td>\n",
       "    </tr>\n",
       "    <tr>\n",
       "      <th>25%</th>\n",
       "      <td>1.000000</td>\n",
       "      <td>1.000000</td>\n",
       "    </tr>\n",
       "    <tr>\n",
       "      <th>50%</th>\n",
       "      <td>2.000000</td>\n",
       "      <td>1.000000</td>\n",
       "    </tr>\n",
       "    <tr>\n",
       "      <th>75%</th>\n",
       "      <td>5.000000</td>\n",
       "      <td>2.000000</td>\n",
       "    </tr>\n",
       "    <tr>\n",
       "      <th>max</th>\n",
       "      <td>14795.000000</td>\n",
       "      <td>17.000000</td>\n",
       "    </tr>\n",
       "  </tbody>\n",
       "</table>\n",
       "</div>"
      ],
      "text/plain": [
       "       sequence_length  unique_sequence_length\n",
       "count    989818.000000           989818.000000\n",
       "mean          4.747129                1.716783\n",
       "std          21.257389                1.191411\n",
       "min           1.000000                1.000000\n",
       "25%           1.000000                1.000000\n",
       "50%           2.000000                1.000000\n",
       "75%           5.000000                2.000000\n",
       "max       14795.000000               17.000000"
      ]
     },
     "execution_count": 6,
     "metadata": {},
     "output_type": "execute_result"
    }
   ],
   "source": [
    "df.describe()"
   ]
  },
  {
   "cell_type": "code",
   "execution_count": 7,
   "metadata": {},
   "outputs": [
    {
     "data": {
      "text/plain": [
       "<matplotlib.axes.AxesSubplot at 0x10338b0d0>"
      ]
     },
     "execution_count": 7,
     "metadata": {},
     "output_type": "execute_result"
    },
    {
     "data": {
      "image/png": "[encoded data removed]",
      "text/plain": [
       "<matplotlib.figure.Figure at 0x109b51ed0>"
      ]
     },
     "metadata": {},
     "output_type": "display_data"
    }
   ],
   "source": [
    "gb_len = df['sequence_length'].value_counts()\n",
    "gb_len.plot(xlim=(1,10))"
   ]
  },
  {
   "cell_type": "code",
   "execution_count": 8,
   "metadata": {},
   "outputs": [
    {
     "data": {
      "text/plain": [
       "<matplotlib.axes.AxesSubplot at 0x1015e9650>"
      ]
     },
     "execution_count": 8,
     "metadata": {},
     "output_type": "execute_result"
    },
    {
     "data": {
      "image/png": "[encoded data removed]",
      "text/plain": [
       "<matplotlib.figure.Figure at 0x109b71490>"
      ]
     },
     "metadata": {},
     "output_type": "display_data"
    }
   ],
   "source": [
    "gb_len = df['unique_sequence_length'].value_counts()\n",
    "gb_len.plot(xlim=(1,10))"
   ]
  },
  {
   "cell_type": "code",
   "execution_count": 9,
   "metadata": {},
   "outputs": [
    {
     "data": {
      "text/plain": [
       "sequence_length  unique_sequence_length\n",
       "1                1                         365435\n",
       "2                1                          98541\n",
       "                 2                          55073\n",
       "3                1                          45237\n",
       "                 2                          42478\n",
       "                 3                           9825\n",
       "4                1                          26373\n",
       "                 2                          29621\n",
       "                 3                          12211\n",
       "                 4                           1885\n",
       "dtype: int64"
      ]
     },
     "execution_count": 9,
     "metadata": {},
     "output_type": "execute_result"
    }
   ],
   "source": [
    "df.groupby([\"sequence_length\", \"unique_sequence_length\"]).size().head(10)"
   ]
  },
  {
   "cell_type": "code",
   "execution_count": 10,
   "metadata": {},
   "outputs": [
    {
     "data": {
      "text/plain": [
       "<matplotlib.axes.AxesSubplot at 0x106dd4890>"
      ]
     },
     "execution_count": 10,
     "metadata": {},
     "output_type": "execute_result"
    },
    {
     "data": {
      "image/png": "[encoded data removed]",
      "text/plain": [
       "<matplotlib.figure.Figure at 0x10162fc90>"
      ]
     },
     "metadata": {},
     "output_type": "display_data"
    }
   ],
   "source": [
    "df.groupby([\"sequence_length\", \"unique_sequence_length\"]).size().plot(xlim=(0,10))"
   ]
  },
  {
   "cell_type": "code",
   "execution_count": 11,
   "metadata": {},
   "outputs": [
    {
     "data": {
      "image/png": "[encoded data removed]",
      "text/plain": [
       "<matplotlib.figure.Figure at 0x106dc0510>"
      ]
     },
     "metadata": {},
     "output_type": "display_data"
    }
   ],
   "source": [
    "plot_correlation_map(df)"
   ]
  },
  {
   "cell_type": "markdown",
   "metadata": {},
   "source": [
    "Something that is subtley availible in our dataset is the pages that users enter or exit the site on. While we could simply look at the final cell it makes more sense to append a 0 and 18 onto each string so this can be measured by our algorithms and in a visualisation."
   ]
  },
  {
   "cell_type": "code",
   "execution_count": 13,
   "metadata": {},
   "outputs": [
    {
     "data": {
      "text/html": [
       "<div>\n",
       "<style>\n",
       "    .dataframe thead tr:only-child th {\n",
       "        text-align: right;\n",
       "    }\n",
       "\n",
       "    .dataframe thead th {\n",
       "        text-align: left;\n",
       "    }\n",
       "\n",
       "    .dataframe tbody tr th {\n",
       "        vertical-align: top;\n",
       "    }\n",
       "</style>\n",
       "<table border=\"1\" class=\"dataframe\">\n",
       "  <thead>\n",
       "    <tr style=\"text-align: right;\">\n",
       "      <th></th>\n",
       "      <th>Sequences</th>\n",
       "      <th>sequence_length</th>\n",
       "      <th>unique_sequence_length</th>\n",
       "      <th>sequence_full</th>\n",
       "    </tr>\n",
       "  </thead>\n",
       "  <tbody>\n",
       "    <tr>\n",
       "      <th>0</th>\n",
       "      <td>1 1</td>\n",
       "      <td>2</td>\n",
       "      <td>1</td>\n",
       "      <td>0 1 1  18</td>\n",
       "    </tr>\n",
       "    <tr>\n",
       "      <th>1</th>\n",
       "      <td>2</td>\n",
       "      <td>1</td>\n",
       "      <td>1</td>\n",
       "      <td>0 2  18</td>\n",
       "    </tr>\n",
       "    <tr>\n",
       "      <th>2</th>\n",
       "      <td>3 2 2 4 2 2 2 3 3</td>\n",
       "      <td>9</td>\n",
       "      <td>3</td>\n",
       "      <td>0 3 2 2 4 2 2 2 3 3  18</td>\n",
       "    </tr>\n",
       "    <tr>\n",
       "      <th>3</th>\n",
       "      <td>5</td>\n",
       "      <td>1</td>\n",
       "      <td>1</td>\n",
       "      <td>0 5  18</td>\n",
       "    </tr>\n",
       "    <tr>\n",
       "      <th>4</th>\n",
       "      <td>1</td>\n",
       "      <td>1</td>\n",
       "      <td>1</td>\n",
       "      <td>0 1  18</td>\n",
       "    </tr>\n",
       "    <tr>\n",
       "      <th>5</th>\n",
       "      <td>6</td>\n",
       "      <td>1</td>\n",
       "      <td>1</td>\n",
       "      <td>0 6  18</td>\n",
       "    </tr>\n",
       "    <tr>\n",
       "      <th>6</th>\n",
       "      <td>1 1</td>\n",
       "      <td>2</td>\n",
       "      <td>1</td>\n",
       "      <td>0 1 1  18</td>\n",
       "    </tr>\n",
       "    <tr>\n",
       "      <th>7</th>\n",
       "      <td>6</td>\n",
       "      <td>1</td>\n",
       "      <td>1</td>\n",
       "      <td>0 6  18</td>\n",
       "    </tr>\n",
       "    <tr>\n",
       "      <th>8</th>\n",
       "      <td>6 7 7 7 6 6 8 8 8 8</td>\n",
       "      <td>10</td>\n",
       "      <td>3</td>\n",
       "      <td>0 6 7 7 7 6 6 8 8 8 8  18</td>\n",
       "    </tr>\n",
       "    <tr>\n",
       "      <th>9</th>\n",
       "      <td>6 9 4 4 4 10 3 10 5 10 4 4 4</td>\n",
       "      <td>13</td>\n",
       "      <td>6</td>\n",
       "      <td>0 6 9 4 4 4 10 3 10 5 10 4 4 4  18</td>\n",
       "    </tr>\n",
       "  </tbody>\n",
       "</table>\n",
       "</div>"
      ],
      "text/plain": [
       "                       Sequences  sequence_length  unique_sequence_length  \\\n",
       "0                           1 1                 2                       1   \n",
       "1                             2                 1                       1   \n",
       "2             3 2 2 4 2 2 2 3 3                 9                       3   \n",
       "3                             5                 1                       1   \n",
       "4                             1                 1                       1   \n",
       "5                             6                 1                       1   \n",
       "6                           1 1                 2                       1   \n",
       "7                             6                 1                       1   \n",
       "8           6 7 7 7 6 6 8 8 8 8                10                       3   \n",
       "9  6 9 4 4 4 10 3 10 5 10 4 4 4                13                       6   \n",
       "\n",
       "                        sequence_full  \n",
       "0                           0 1 1  18  \n",
       "1                             0 2  18  \n",
       "2             0 3 2 2 4 2 2 2 3 3  18  \n",
       "3                             0 5  18  \n",
       "4                             0 1  18  \n",
       "5                             0 6  18  \n",
       "6                           0 1 1  18  \n",
       "7                             0 6  18  \n",
       "8           0 6 7 7 7 6 6 8 8 8 8  18  \n",
       "9  0 6 9 4 4 4 10 3 10 5 10 4 4 4  18  "
      ]
     },
     "execution_count": 13,
     "metadata": {},
     "output_type": "execute_result"
    }
   ],
   "source": [
    "def add_s_e(input):\n",
    "    return '0 ' + input + ' 18'\n",
    "\n",
    "# append to sequences\n",
    "df['sequence_full'] = df['Sequences'].apply(add_s_e)\n",
    "df.head(10)"
   ]
  },
  {
   "cell_type": "markdown",
   "metadata": {},
   "source": [
    "My goal here is to build a graph using SankeyMatic, which shows the flows through a site from start to finish, it may look weird as this is cyclic but we will see. I realise this won't really work for cyclic graphs, but could be interesting for visualizing the start and end points so lets look at that. In order to use this I need to know how many people entered and exited from each cell, so I need the first number before an exit and after an enterence."
   ]
  },
  {
   "cell_type": "code",
   "execution_count": 25,
   "metadata": {},
   "outputs": [
    {
     "data": {
      "text/html": [
       "<div>\n",
       "<style>\n",
       "    .dataframe thead tr:only-child th {\n",
       "        text-align: right;\n",
       "    }\n",
       "\n",
       "    .dataframe thead th {\n",
       "        text-align: left;\n",
       "    }\n",
       "\n",
       "    .dataframe tbody tr th {\n",
       "        vertical-align: top;\n",
       "    }\n",
       "</style>\n",
       "<table border=\"1\" class=\"dataframe\">\n",
       "  <thead>\n",
       "    <tr style=\"text-align: right;\">\n",
       "      <th></th>\n",
       "      <th>Sequences</th>\n",
       "      <th>sequence_length</th>\n",
       "      <th>unique_sequence_length</th>\n",
       "      <th>sequence_full</th>\n",
       "      <th>entry</th>\n",
       "      <th>exit</th>\n",
       "    </tr>\n",
       "  </thead>\n",
       "  <tbody>\n",
       "    <tr>\n",
       "      <th>0</th>\n",
       "      <td>1 1</td>\n",
       "      <td>2</td>\n",
       "      <td>1</td>\n",
       "      <td>0 1 1  18</td>\n",
       "      <td>1</td>\n",
       "      <td>1</td>\n",
       "    </tr>\n",
       "    <tr>\n",
       "      <th>1</th>\n",
       "      <td>2</td>\n",
       "      <td>1</td>\n",
       "      <td>1</td>\n",
       "      <td>0 2  18</td>\n",
       "      <td>2</td>\n",
       "      <td>2</td>\n",
       "    </tr>\n",
       "    <tr>\n",
       "      <th>2</th>\n",
       "      <td>3 2 2 4 2 2 2 3 3</td>\n",
       "      <td>9</td>\n",
       "      <td>3</td>\n",
       "      <td>0 3 2 2 4 2 2 2 3 3  18</td>\n",
       "      <td>3</td>\n",
       "      <td>3</td>\n",
       "    </tr>\n",
       "    <tr>\n",
       "      <th>3</th>\n",
       "      <td>5</td>\n",
       "      <td>1</td>\n",
       "      <td>1</td>\n",
       "      <td>0 5  18</td>\n",
       "      <td>5</td>\n",
       "      <td>5</td>\n",
       "    </tr>\n",
       "    <tr>\n",
       "      <th>4</th>\n",
       "      <td>1</td>\n",
       "      <td>1</td>\n",
       "      <td>1</td>\n",
       "      <td>0 1  18</td>\n",
       "      <td>1</td>\n",
       "      <td>1</td>\n",
       "    </tr>\n",
       "    <tr>\n",
       "      <th>5</th>\n",
       "      <td>6</td>\n",
       "      <td>1</td>\n",
       "      <td>1</td>\n",
       "      <td>0 6  18</td>\n",
       "      <td>6</td>\n",
       "      <td>6</td>\n",
       "    </tr>\n",
       "    <tr>\n",
       "      <th>6</th>\n",
       "      <td>1 1</td>\n",
       "      <td>2</td>\n",
       "      <td>1</td>\n",
       "      <td>0 1 1  18</td>\n",
       "      <td>1</td>\n",
       "      <td>1</td>\n",
       "    </tr>\n",
       "    <tr>\n",
       "      <th>7</th>\n",
       "      <td>6</td>\n",
       "      <td>1</td>\n",
       "      <td>1</td>\n",
       "      <td>0 6  18</td>\n",
       "      <td>6</td>\n",
       "      <td>6</td>\n",
       "    </tr>\n",
       "    <tr>\n",
       "      <th>8</th>\n",
       "      <td>6 7 7 7 6 6 8 8 8 8</td>\n",
       "      <td>10</td>\n",
       "      <td>3</td>\n",
       "      <td>0 6 7 7 7 6 6 8 8 8 8  18</td>\n",
       "      <td>6</td>\n",
       "      <td>8</td>\n",
       "    </tr>\n",
       "    <tr>\n",
       "      <th>9</th>\n",
       "      <td>6 9 4 4 4 10 3 10 5 10 4 4 4</td>\n",
       "      <td>13</td>\n",
       "      <td>6</td>\n",
       "      <td>0 6 9 4 4 4 10 3 10 5 10 4 4 4  18</td>\n",
       "      <td>6</td>\n",
       "      <td>4</td>\n",
       "    </tr>\n",
       "  </tbody>\n",
       "</table>\n",
       "</div>"
      ],
      "text/plain": [
       "                       Sequences  sequence_length  unique_sequence_length  \\\n",
       "0                           1 1                 2                       1   \n",
       "1                             2                 1                       1   \n",
       "2             3 2 2 4 2 2 2 3 3                 9                       3   \n",
       "3                             5                 1                       1   \n",
       "4                             1                 1                       1   \n",
       "5                             6                 1                       1   \n",
       "6                           1 1                 2                       1   \n",
       "7                             6                 1                       1   \n",
       "8           6 7 7 7 6 6 8 8 8 8                10                       3   \n",
       "9  6 9 4 4 4 10 3 10 5 10 4 4 4                13                       6   \n",
       "\n",
       "                        sequence_full entry exit  \n",
       "0                           0 1 1  18     1    1  \n",
       "1                             0 2  18     2    2  \n",
       "2             0 3 2 2 4 2 2 2 3 3  18     3    3  \n",
       "3                             0 5  18     5    5  \n",
       "4                             0 1  18     1    1  \n",
       "5                             0 6  18     6    6  \n",
       "6                           0 1 1  18     1    1  \n",
       "7                             0 6  18     6    6  \n",
       "8           0 6 7 7 7 6 6 8 8 8 8  18     6    8  \n",
       "9  0 6 9 4 4 4 10 3 10 5 10 4 4 4  18     6    4  "
      ]
     },
     "execution_count": 25,
     "metadata": {},
     "output_type": "execute_result"
    }
   ],
   "source": [
    "# get entry point\n",
    "def get_entry(input):\n",
    "    return input.split(' ')[1]\n",
    "\n",
    "# get exit point\n",
    "def get_exit(input):\n",
    "    return input.split(' ')[-3]\n",
    "    \n",
    "# entry and exits\n",
    "df['entry'] = df['sequence_full'].apply(get_entry)\n",
    "df['exit'] = df['sequence_full'].apply(get_exit)\n",
    "df.head(10)"
   ]
  },
  {
   "cell_type": "code",
   "execution_count": 19,
   "metadata": {},
   "outputs": [
    {
     "data": {
      "text/plain": [
       "'1'"
      ]
     },
     "execution_count": 19,
     "metadata": {},
     "output_type": "execute_result"
    }
   ],
   "source": [
    "get_entry('0 1 2 2 4 2 2 2 3 9 18')"
   ]
  },
  {
   "cell_type": "code",
   "execution_count": null,
   "metadata": {},
   "outputs": [],
   "source": []
  }
 ],
 "metadata": {
  "kernelspec": {
   "display_name": "Python 2",
   "language": "python",
   "name": "python2"
  },
  "language_info": {
   "codemirror_mode": {
    "name": "ipython",
    "version": 2
   },
   "file_extension": ".py",
   "mimetype": "text/x-python",
   "name": "python",
   "nbconvert_exporter": "python",
   "pygments_lexer": "ipython2",
   "version": "2.7.10"
  }
 },
 "nbformat": 4,
 "nbformat_minor": 2
}
