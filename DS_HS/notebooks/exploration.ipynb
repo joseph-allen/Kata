{
 "cells": [
  {
   "cell_type": "code",
   "execution_count": 31,
   "metadata": {},
   "outputs": [],
   "source": [
    "# import packages\n",
    "import numpy as np\n",
    "import pandas as pd\n",
    "import re\n",
    "import string\n",
    "import nltk\n",
    "import matplotlib.pyplot as plt\n",
    "# plt.style.use('fivethirtyeight')\n",
    "%matplotlib inline"
   ]
  },
  {
   "cell_type": "code",
   "execution_count": 32,
   "metadata": {},
   "outputs": [
    {
     "data": {
      "text/html": [
       "<div>\n",
       "<style>\n",
       "    .dataframe thead tr:only-child th {\n",
       "        text-align: right;\n",
       "    }\n",
       "\n",
       "    .dataframe thead th {\n",
       "        text-align: left;\n",
       "    }\n",
       "\n",
       "    .dataframe tbody tr th {\n",
       "        vertical-align: top;\n",
       "    }\n",
       "</style>\n",
       "<table border=\"1\" class=\"dataframe\">\n",
       "  <thead>\n",
       "    <tr style=\"text-align: right;\">\n",
       "      <th></th>\n",
       "      <th>id</th>\n",
       "      <th>tweet_text</th>\n",
       "      <th>Label</th>\n",
       "      <th>Set</th>\n",
       "      <th>Unnamed: 4</th>\n",
       "      <th>r</th>\n",
       "      <th>pct</th>\n",
       "      <th>80</th>\n",
       "    </tr>\n",
       "  </thead>\n",
       "  <tbody>\n",
       "    <tr>\n",
       "      <th>0</th>\n",
       "      <td>2</td>\n",
       "      <td>@NFLfantasy @Akbar_Gbaja Damn right, Akbar.</td>\n",
       "      <td>neutral</td>\n",
       "      <td>s1</td>\n",
       "      <td>NaN</td>\n",
       "      <td>0.227180</td>\n",
       "      <td>42</td>\n",
       "      <td>s1</td>\n",
       "    </tr>\n",
       "    <tr>\n",
       "      <th>1</th>\n",
       "      <td>3</td>\n",
       "      <td>@NFLfantasy @Akbar_Gbaja I've got backup _‰гў‰Ы__</td>\n",
       "      <td>neutral</td>\n",
       "      <td>s1</td>\n",
       "      <td>NaN</td>\n",
       "      <td>0.531081</td>\n",
       "      <td>4</td>\n",
       "      <td>s1</td>\n",
       "    </tr>\n",
       "    <tr>\n",
       "      <th>2</th>\n",
       "      <td>5</td>\n",
       "      <td>\"No one is going to replace the production of ...</td>\n",
       "      <td>neutral</td>\n",
       "      <td>s1</td>\n",
       "      <td>NaN</td>\n",
       "      <td>0.546614</td>\n",
       "      <td>65</td>\n",
       "      <td>s1</td>\n",
       "    </tr>\n",
       "    <tr>\n",
       "      <th>3</th>\n",
       "      <td>7</td>\n",
       "      <td>@Sheikh__Akbar It's actually PERFECT for you m...</td>\n",
       "      <td>neutral</td>\n",
       "      <td>s1</td>\n",
       "      <td>NaN</td>\n",
       "      <td>0.228940</td>\n",
       "      <td>26</td>\n",
       "      <td>s1</td>\n",
       "    </tr>\n",
       "    <tr>\n",
       "      <th>4</th>\n",
       "      <td>10</td>\n",
       "      <td>Was Trump right? Officers say pockets of Musli...</td>\n",
       "      <td>neutral</td>\n",
       "      <td>s1</td>\n",
       "      <td>NaN</td>\n",
       "      <td>0.063069</td>\n",
       "      <td>19</td>\n",
       "      <td>s1</td>\n",
       "    </tr>\n",
       "  </tbody>\n",
       "</table>\n",
       "</div>"
      ],
      "text/plain": [
       "   id                                         tweet_text    Label Set  \\\n",
       "0   2        @NFLfantasy @Akbar_Gbaja Damn right, Akbar.  neutral  s1   \n",
       "1   3  @NFLfantasy @Akbar_Gbaja I've got backup _‰гў‰Ы__  neutral  s1   \n",
       "2   5  \"No one is going to replace the production of ...  neutral  s1   \n",
       "3   7  @Sheikh__Akbar It's actually PERFECT for you m...  neutral  s1   \n",
       "4  10  Was Trump right? Officers say pockets of Musli...  neutral  s1   \n",
       "\n",
       "   Unnamed: 4         r  pct  80  \n",
       "0         NaN  0.227180   42  s1  \n",
       "1         NaN  0.531081    4  s1  \n",
       "2         NaN  0.546614   65  s1  \n",
       "3         NaN  0.228940   26  s1  \n",
       "4         NaN  0.063069   19  s1  "
      ]
     },
     "execution_count": 32,
     "metadata": {},
     "output_type": "execute_result"
    }
   ],
   "source": [
    "df = pd.read_csv('../data/raw/data.csv')\n",
    "df.head()"
   ]
  },
  {
   "cell_type": "markdown",
   "metadata": {},
   "source": [
    "### Initial thoughts\n",
    "Looking at this data we have a few issues. There is an unamed column and a meaningless \"80\" column from my conversion from xlsx to csv. The columns 'r' and 'pct' at a glance don't mean anything to me yet so will require further investigation.\n",
    "\n",
    "First I want to clean up the data, I will drop these uneccesary columns and try to give the headings more meaningful labels."
   ]
  },
  {
   "cell_type": "code",
   "execution_count": 33,
   "metadata": {},
   "outputs": [
    {
     "data": {
      "text/html": [
       "<div>\n",
       "<style>\n",
       "    .dataframe thead tr:only-child th {\n",
       "        text-align: right;\n",
       "    }\n",
       "\n",
       "    .dataframe thead th {\n",
       "        text-align: left;\n",
       "    }\n",
       "\n",
       "    .dataframe tbody tr th {\n",
       "        vertical-align: top;\n",
       "    }\n",
       "</style>\n",
       "<table border=\"1\" class=\"dataframe\">\n",
       "  <thead>\n",
       "    <tr style=\"text-align: right;\">\n",
       "      <th></th>\n",
       "      <th>text</th>\n",
       "      <th>label</th>\n",
       "      <th>set</th>\n",
       "      <th>r</th>\n",
       "      <th>percentage</th>\n",
       "    </tr>\n",
       "  </thead>\n",
       "  <tbody>\n",
       "    <tr>\n",
       "      <th>0</th>\n",
       "      <td>@NFLfantasy @Akbar_Gbaja Damn right, Akbar.</td>\n",
       "      <td>neutral</td>\n",
       "      <td>s1</td>\n",
       "      <td>0.227180</td>\n",
       "      <td>42</td>\n",
       "    </tr>\n",
       "    <tr>\n",
       "      <th>1</th>\n",
       "      <td>@NFLfantasy @Akbar_Gbaja I've got backup _‰гў‰Ы__</td>\n",
       "      <td>neutral</td>\n",
       "      <td>s1</td>\n",
       "      <td>0.531081</td>\n",
       "      <td>4</td>\n",
       "    </tr>\n",
       "    <tr>\n",
       "      <th>2</th>\n",
       "      <td>\"No one is going to replace the production of ...</td>\n",
       "      <td>neutral</td>\n",
       "      <td>s1</td>\n",
       "      <td>0.546614</td>\n",
       "      <td>65</td>\n",
       "    </tr>\n",
       "    <tr>\n",
       "      <th>3</th>\n",
       "      <td>@Sheikh__Akbar It's actually PERFECT for you m...</td>\n",
       "      <td>neutral</td>\n",
       "      <td>s1</td>\n",
       "      <td>0.228940</td>\n",
       "      <td>26</td>\n",
       "    </tr>\n",
       "    <tr>\n",
       "      <th>4</th>\n",
       "      <td>Was Trump right? Officers say pockets of Musli...</td>\n",
       "      <td>neutral</td>\n",
       "      <td>s1</td>\n",
       "      <td>0.063069</td>\n",
       "      <td>19</td>\n",
       "    </tr>\n",
       "  </tbody>\n",
       "</table>\n",
       "</div>"
      ],
      "text/plain": [
       "                                                text    label set         r  \\\n",
       "0        @NFLfantasy @Akbar_Gbaja Damn right, Akbar.  neutral  s1  0.227180   \n",
       "1  @NFLfantasy @Akbar_Gbaja I've got backup _‰гў‰Ы__  neutral  s1  0.531081   \n",
       "2  \"No one is going to replace the production of ...  neutral  s1  0.546614   \n",
       "3  @Sheikh__Akbar It's actually PERFECT for you m...  neutral  s1  0.228940   \n",
       "4  Was Trump right? Officers say pockets of Musli...  neutral  s1  0.063069   \n",
       "\n",
       "   percentage  \n",
       "0          42  \n",
       "1           4  \n",
       "2          65  \n",
       "3          26  \n",
       "4          19  "
      ]
     },
     "execution_count": 33,
     "metadata": {},
     "output_type": "execute_result"
    }
   ],
   "source": [
    "# axis=1 allows us to drop columns instead of rows\n",
    "df = df.drop(['id','Unnamed: 4', '80'], axis=1)\n",
    "\n",
    "# then re-label the columns to something more consistent and meaningful\n",
    "df.columns = ['text', 'label', 'set', 'r', 'percentage']\n",
    "df.head()"
   ]
  },
  {
   "cell_type": "markdown",
   "metadata": {},
   "source": [
    "### Tweet cleaning\n",
    "For such a small dataset there are certain preparations we need to do before moving forward with tweet values. A good first step here is removing stop words( such as : and, then, a, i), however algorithms now deal with these themselves and now hold more value than previousy thought. To Do :\n",
    "* replace mentions with a generic mention.\n",
    "* replace links with a generic link.\n",
    "* clear any redundant punctuation."
   ]
  },
  {
   "cell_type": "code",
   "execution_count": 34,
   "metadata": {},
   "outputs": [
    {
     "data": {
      "text/plain": [
       "'@twitterMention is really getting on my nerves, his e-mail joe@joe.com is cool'"
      ]
     },
     "execution_count": 34,
     "metadata": {},
     "output_type": "execute_result"
    }
   ],
   "source": [
    "# using this test as to not disregard e-mail\n",
    "# Regex from https://stackoverflow.com/questions/2304632/regex-for-twitter-username\n",
    "\n",
    "test = '@Joe is really getting on my nerves, his e-mail joe@joe.com is cool'\n",
    "\n",
    "def generalize_mentions(text):\n",
    "    return re.sub(r'(?<=^|(?<=[^a-zA-Z0-9-_\\.]))@([A-Za-z]+[A-Za-z0-9_]+)', '@twitterMention', text)\n",
    "\n",
    "generalize_mentions(test)"
   ]
  },
  {
   "cell_type": "code",
   "execution_count": 35,
   "metadata": {},
   "outputs": [
    {
     "data": {
      "text/plain": [
       "'Another beautiful bike urlRemoved'"
      ]
     },
     "execution_count": 35,
     "metadata": {},
     "output_type": "execute_result"
    }
   ],
   "source": [
    "# clean out urls\n",
    "# regex from https://stackoverflow.com/questions/37807244/python-to-extract-the-user-and-url-link-in-twitter-text-data-with-regex\n",
    "test = 'Another beautiful bike https://goo.gl/i86vtG'\n",
    "\n",
    "def generalize_urls(text):\n",
    "    return re.sub(r'(?:http|ftp|https)://(?:[\\w_-]+(?:(?:\\.[\\w_-]+)+))(?:[\\w.,@?^=%&:/~+#-]*[\\w@?^=%&/~+#-])?', 'urlRemoved', text)\n",
    "\n",
    "generalize_urls(test)\n"
   ]
  },
  {
   "cell_type": "code",
   "execution_count": 36,
   "metadata": {
    "scrolled": true
   },
   "outputs": [
    {
     "data": {
      "text/plain": [
       "'joe he said who are you wacky'"
      ]
     },
     "execution_count": 36,
     "metadata": {},
     "output_type": "execute_result"
    }
   ],
   "source": [
    "# clean out punctuation\n",
    "# from https://stackoverflow.com/questions/265960/best-way-to-strip-punctuation-from-a-string-in-python\n",
    "\n",
    "test = '@joe he said \"who are you?\", wacky!'\n",
    "\n",
    "def scrub_punctuation(text):\n",
    "    return text.translate(None, string.punctuation)\n",
    "\n",
    "scrub_punctuation(test)"
   ]
  },
  {
   "cell_type": "code",
   "execution_count": 37,
   "metadata": {},
   "outputs": [],
   "source": [
    "# read in slurs list\n",
    "df_slurs = pd.read_csv('../data/raw/Terms-to-Block.csv', header=None, index_col=False)\n",
    "slurs_list =  df_slurs.values[0]"
   ]
  },
  {
   "cell_type": "code",
   "execution_count": 38,
   "metadata": {},
   "outputs": [],
   "source": [
    "# count slurs in tweets\n",
    "def count_slurs(text):\n",
    "    return len(set(text.split(' ')) & set(slurs_list))"
   ]
  },
  {
   "cell_type": "code",
   "execution_count": 39,
   "metadata": {
    "scrolled": true
   },
   "outputs": [
    {
     "data": {
      "text/html": [
       "<div>\n",
       "<style>\n",
       "    .dataframe thead tr:only-child th {\n",
       "        text-align: right;\n",
       "    }\n",
       "\n",
       "    .dataframe thead th {\n",
       "        text-align: left;\n",
       "    }\n",
       "\n",
       "    .dataframe tbody tr th {\n",
       "        vertical-align: top;\n",
       "    }\n",
       "</style>\n",
       "<table border=\"1\" class=\"dataframe\">\n",
       "  <thead>\n",
       "    <tr style=\"text-align: right;\">\n",
       "      <th></th>\n",
       "      <th>text</th>\n",
       "      <th>label</th>\n",
       "      <th>set</th>\n",
       "      <th>r</th>\n",
       "      <th>percentage</th>\n",
       "      <th>slur_count</th>\n",
       "    </tr>\n",
       "  </thead>\n",
       "  <tbody>\n",
       "    <tr>\n",
       "      <th>0</th>\n",
       "      <td>twitterMention twitterMention Damn right Akbar</td>\n",
       "      <td>neutral</td>\n",
       "      <td>s1</td>\n",
       "      <td>0.227180</td>\n",
       "      <td>42</td>\n",
       "      <td>0</td>\n",
       "    </tr>\n",
       "    <tr>\n",
       "      <th>1</th>\n",
       "      <td>twitterMention twitterMention Ive got backup ‰...</td>\n",
       "      <td>neutral</td>\n",
       "      <td>s1</td>\n",
       "      <td>0.531081</td>\n",
       "      <td>4</td>\n",
       "      <td>0</td>\n",
       "    </tr>\n",
       "    <tr>\n",
       "      <th>2</th>\n",
       "      <td>No one is going to replace the production of O...</td>\n",
       "      <td>neutral</td>\n",
       "      <td>s1</td>\n",
       "      <td>0.546614</td>\n",
       "      <td>65</td>\n",
       "      <td>0</td>\n",
       "    </tr>\n",
       "    <tr>\n",
       "      <th>3</th>\n",
       "      <td>twitterMention Its actually PERFECT for you ma...</td>\n",
       "      <td>neutral</td>\n",
       "      <td>s1</td>\n",
       "      <td>0.228940</td>\n",
       "      <td>26</td>\n",
       "      <td>0</td>\n",
       "    </tr>\n",
       "    <tr>\n",
       "      <th>4</th>\n",
       "      <td>Was Trump right Officers say pockets of Muslim...</td>\n",
       "      <td>neutral</td>\n",
       "      <td>s1</td>\n",
       "      <td>0.063069</td>\n",
       "      <td>19</td>\n",
       "      <td>0</td>\n",
       "    </tr>\n",
       "  </tbody>\n",
       "</table>\n",
       "</div>"
      ],
      "text/plain": [
       "                                                text    label set         r  \\\n",
       "0     twitterMention twitterMention Damn right Akbar  neutral  s1  0.227180   \n",
       "1  twitterMention twitterMention Ive got backup ‰...  neutral  s1  0.531081   \n",
       "2  No one is going to replace the production of O...  neutral  s1  0.546614   \n",
       "3  twitterMention Its actually PERFECT for you ma...  neutral  s1  0.228940   \n",
       "4  Was Trump right Officers say pockets of Muslim...  neutral  s1  0.063069   \n",
       "\n",
       "   percentage  slur_count  \n",
       "0          42           0  \n",
       "1           4           0  \n",
       "2          65           0  \n",
       "3          26           0  \n",
       "4          19           0  "
      ]
     },
     "execution_count": 39,
     "metadata": {},
     "output_type": "execute_result"
    }
   ],
   "source": [
    "# now lets apply all of these to text\n",
    "# apply cleaning to dataset\n",
    "df['text'] = df['text'].apply(generalize_mentions)\n",
    "df['text'] = df['text'].apply(generalize_urls)\n",
    "df['text'] = df['text'].apply(scrub_punctuation)\n",
    "df['slur_count'] = df['text'].apply(count_slurs)\n",
    "df.head()"
   ]
  },
  {
   "cell_type": "markdown",
   "metadata": {},
   "source": [
    "### Feature Engineering\n",
    "Now we have some cleaner Tweet texts next we should think about features which may affect the volume of hate speech. As presumptious as it is I believe language spoken may reflect a different culture and potentially a change in hate speech. It should be relatively simple to detect language from text strings. I will come back to this later if it is needed."
   ]
  },
  {
   "cell_type": "code",
   "execution_count": 40,
   "metadata": {},
   "outputs": [
    {
     "data": {
      "text/html": [
       "<div>\n",
       "<style>\n",
       "    .dataframe thead tr:only-child th {\n",
       "        text-align: right;\n",
       "    }\n",
       "\n",
       "    .dataframe thead th {\n",
       "        text-align: left;\n",
       "    }\n",
       "\n",
       "    .dataframe tbody tr th {\n",
       "        vertical-align: top;\n",
       "    }\n",
       "</style>\n",
       "<table border=\"1\" class=\"dataframe\">\n",
       "  <thead>\n",
       "    <tr style=\"text-align: right;\">\n",
       "      <th></th>\n",
       "      <th>text</th>\n",
       "      <th>label</th>\n",
       "      <th>set</th>\n",
       "      <th>r</th>\n",
       "      <th>percentage</th>\n",
       "      <th>slur_count</th>\n",
       "      <th>pos_score</th>\n",
       "      <th>neg_score</th>\n",
       "      <th>neu_score</th>\n",
       "      <th>compound_score</th>\n",
       "    </tr>\n",
       "  </thead>\n",
       "  <tbody>\n",
       "    <tr>\n",
       "      <th>0</th>\n",
       "      <td>twitterMention twitterMention Damn right Akbar</td>\n",
       "      <td>neutral</td>\n",
       "      <td>s1</td>\n",
       "      <td>0.227180</td>\n",
       "      <td>42</td>\n",
       "      <td>0</td>\n",
       "      <td>0.000</td>\n",
       "      <td>0.403</td>\n",
       "      <td>0.597</td>\n",
       "      <td>-0.4019</td>\n",
       "    </tr>\n",
       "    <tr>\n",
       "      <th>1</th>\n",
       "      <td>twitterMention twitterMention Ive got backup ‰...</td>\n",
       "      <td>neutral</td>\n",
       "      <td>s1</td>\n",
       "      <td>0.531081</td>\n",
       "      <td>4</td>\n",
       "      <td>0</td>\n",
       "      <td>0.000</td>\n",
       "      <td>0.000</td>\n",
       "      <td>1.000</td>\n",
       "      <td>0.0000</td>\n",
       "    </tr>\n",
       "    <tr>\n",
       "      <th>2</th>\n",
       "      <td>No one is going to replace the production of O...</td>\n",
       "      <td>neutral</td>\n",
       "      <td>s1</td>\n",
       "      <td>0.546614</td>\n",
       "      <td>65</td>\n",
       "      <td>0</td>\n",
       "      <td>0.000</td>\n",
       "      <td>0.104</td>\n",
       "      <td>0.896</td>\n",
       "      <td>-0.2960</td>\n",
       "    </tr>\n",
       "    <tr>\n",
       "      <th>3</th>\n",
       "      <td>twitterMention Its actually PERFECT for you ma...</td>\n",
       "      <td>neutral</td>\n",
       "      <td>s1</td>\n",
       "      <td>0.228940</td>\n",
       "      <td>26</td>\n",
       "      <td>0</td>\n",
       "      <td>0.307</td>\n",
       "      <td>0.000</td>\n",
       "      <td>0.693</td>\n",
       "      <td>0.6633</td>\n",
       "    </tr>\n",
       "    <tr>\n",
       "      <th>4</th>\n",
       "      <td>Was Trump right Officers say pockets of Muslim...</td>\n",
       "      <td>neutral</td>\n",
       "      <td>s1</td>\n",
       "      <td>0.063069</td>\n",
       "      <td>19</td>\n",
       "      <td>0</td>\n",
       "      <td>0.236</td>\n",
       "      <td>0.000</td>\n",
       "      <td>0.764</td>\n",
       "      <td>0.5719</td>\n",
       "    </tr>\n",
       "  </tbody>\n",
       "</table>\n",
       "</div>"
      ],
      "text/plain": [
       "                                                text    label set         r  \\\n",
       "0     twitterMention twitterMention Damn right Akbar  neutral  s1  0.227180   \n",
       "1  twitterMention twitterMention Ive got backup ‰...  neutral  s1  0.531081   \n",
       "2  No one is going to replace the production of O...  neutral  s1  0.546614   \n",
       "3  twitterMention Its actually PERFECT for you ma...  neutral  s1  0.228940   \n",
       "4  Was Trump right Officers say pockets of Muslim...  neutral  s1  0.063069   \n",
       "\n",
       "   percentage  slur_count  pos_score  neg_score  neu_score  compound_score  \n",
       "0          42           0      0.000      0.403      0.597         -0.4019  \n",
       "1           4           0      0.000      0.000      1.000          0.0000  \n",
       "2          65           0      0.000      0.104      0.896         -0.2960  \n",
       "3          26           0      0.307      0.000      0.693          0.6633  \n",
       "4          19           0      0.236      0.000      0.764          0.5719  "
      ]
     },
     "execution_count": 40,
     "metadata": {},
     "output_type": "execute_result"
    }
   ],
   "source": [
    "# sentiment analysisi\n",
    "from nltk.sentiment.vader import SentimentIntensityAnalyzer\n",
    "\n",
    "def get_polarity(key, string):\n",
    "    ss = sid.polarity_scores(string)\n",
    "    return ss[key] \n",
    "    \n",
    "sid = SentimentIntensityAnalyzer()\n",
    "df['pos_score'] = df['text'].apply(lambda string: get_polarity('pos',string))\n",
    "df['neg_score'] = df['text'].apply(lambda string: get_polarity('neg',string))\n",
    "df['neu_score'] = df['text'].apply(lambda string: get_polarity('neu',string))\n",
    "df['compound_score'] = df['text'].apply(lambda string: get_polarity('compound',string))\n",
    "df.head()"
   ]
  },
  {
   "cell_type": "markdown",
   "metadata": {},
   "source": [
    "### Sentiment Analysis\n",
    "Lets see if there is any naive difference here between our three labels. My gut says that this may work well for english tweets, but we aren't only working with an english dataset."
   ]
  },
  {
   "cell_type": "code",
   "execution_count": 41,
   "metadata": {},
   "outputs": [
    {
     "data": {
      "text/html": [
       "<div>\n",
       "<style>\n",
       "    .dataframe thead tr:only-child th {\n",
       "        text-align: right;\n",
       "    }\n",
       "\n",
       "    .dataframe thead th {\n",
       "        text-align: left;\n",
       "    }\n",
       "\n",
       "    .dataframe tbody tr th {\n",
       "        vertical-align: top;\n",
       "    }\n",
       "</style>\n",
       "<table border=\"1\" class=\"dataframe\">\n",
       "  <thead>\n",
       "    <tr style=\"text-align: right;\">\n",
       "      <th></th>\n",
       "      <th>text</th>\n",
       "      <th>label</th>\n",
       "      <th>set</th>\n",
       "      <th>r</th>\n",
       "      <th>percentage</th>\n",
       "      <th>slur_count</th>\n",
       "      <th>pos_score</th>\n",
       "      <th>neg_score</th>\n",
       "      <th>neu_score</th>\n",
       "      <th>compound_score</th>\n",
       "    </tr>\n",
       "  </thead>\n",
       "  <tbody>\n",
       "    <tr>\n",
       "      <th>0</th>\n",
       "      <td>twitterMention twitterMention Damn right Akbar</td>\n",
       "      <td>neutral</td>\n",
       "      <td>s1</td>\n",
       "      <td>0.227180</td>\n",
       "      <td>42</td>\n",
       "      <td>0</td>\n",
       "      <td>0.000</td>\n",
       "      <td>0.403</td>\n",
       "      <td>0.597</td>\n",
       "      <td>-0.4019</td>\n",
       "    </tr>\n",
       "    <tr>\n",
       "      <th>1</th>\n",
       "      <td>twitterMention twitterMention Ive got backup ‰...</td>\n",
       "      <td>neutral</td>\n",
       "      <td>s1</td>\n",
       "      <td>0.531081</td>\n",
       "      <td>4</td>\n",
       "      <td>0</td>\n",
       "      <td>0.000</td>\n",
       "      <td>0.000</td>\n",
       "      <td>1.000</td>\n",
       "      <td>0.0000</td>\n",
       "    </tr>\n",
       "    <tr>\n",
       "      <th>2</th>\n",
       "      <td>No one is going to replace the production of O...</td>\n",
       "      <td>neutral</td>\n",
       "      <td>s1</td>\n",
       "      <td>0.546614</td>\n",
       "      <td>65</td>\n",
       "      <td>0</td>\n",
       "      <td>0.000</td>\n",
       "      <td>0.104</td>\n",
       "      <td>0.896</td>\n",
       "      <td>-0.2960</td>\n",
       "    </tr>\n",
       "    <tr>\n",
       "      <th>3</th>\n",
       "      <td>twitterMention Its actually PERFECT for you ma...</td>\n",
       "      <td>neutral</td>\n",
       "      <td>s1</td>\n",
       "      <td>0.228940</td>\n",
       "      <td>26</td>\n",
       "      <td>0</td>\n",
       "      <td>0.307</td>\n",
       "      <td>0.000</td>\n",
       "      <td>0.693</td>\n",
       "      <td>0.6633</td>\n",
       "    </tr>\n",
       "    <tr>\n",
       "      <th>4</th>\n",
       "      <td>Was Trump right Officers say pockets of Muslim...</td>\n",
       "      <td>neutral</td>\n",
       "      <td>s1</td>\n",
       "      <td>0.063069</td>\n",
       "      <td>19</td>\n",
       "      <td>0</td>\n",
       "      <td>0.236</td>\n",
       "      <td>0.000</td>\n",
       "      <td>0.764</td>\n",
       "      <td>0.5719</td>\n",
       "    </tr>\n",
       "  </tbody>\n",
       "</table>\n",
       "</div>"
      ],
      "text/plain": [
       "                                                text    label set         r  \\\n",
       "0     twitterMention twitterMention Damn right Akbar  neutral  s1  0.227180   \n",
       "1  twitterMention twitterMention Ive got backup ‰...  neutral  s1  0.531081   \n",
       "2  No one is going to replace the production of O...  neutral  s1  0.546614   \n",
       "3  twitterMention Its actually PERFECT for you ma...  neutral  s1  0.228940   \n",
       "4  Was Trump right Officers say pockets of Muslim...  neutral  s1  0.063069   \n",
       "\n",
       "   percentage  slur_count  pos_score  neg_score  neu_score  compound_score  \n",
       "0          42           0      0.000      0.403      0.597         -0.4019  \n",
       "1           4           0      0.000      0.000      1.000          0.0000  \n",
       "2          65           0      0.000      0.104      0.896         -0.2960  \n",
       "3          26           0      0.307      0.000      0.693          0.6633  \n",
       "4          19           0      0.236      0.000      0.764          0.5719  "
      ]
     },
     "execution_count": 41,
     "metadata": {},
     "output_type": "execute_result"
    }
   ],
   "source": [
    "neutral_df = df[df['label'] == 'neutral']\n",
    "neutral_df.head()"
   ]
  },
  {
   "cell_type": "code",
   "execution_count": 42,
   "metadata": {},
   "outputs": [
    {
     "data": {
      "text/html": [
       "<div>\n",
       "<style>\n",
       "    .dataframe thead tr:only-child th {\n",
       "        text-align: right;\n",
       "    }\n",
       "\n",
       "    .dataframe thead th {\n",
       "        text-align: left;\n",
       "    }\n",
       "\n",
       "    .dataframe tbody tr th {\n",
       "        vertical-align: top;\n",
       "    }\n",
       "</style>\n",
       "<table border=\"1\" class=\"dataframe\">\n",
       "  <thead>\n",
       "    <tr style=\"text-align: right;\">\n",
       "      <th></th>\n",
       "      <th>text</th>\n",
       "      <th>label</th>\n",
       "      <th>set</th>\n",
       "      <th>r</th>\n",
       "      <th>percentage</th>\n",
       "      <th>slur_count</th>\n",
       "      <th>pos_score</th>\n",
       "      <th>neg_score</th>\n",
       "      <th>neu_score</th>\n",
       "      <th>compound_score</th>\n",
       "    </tr>\n",
       "  </thead>\n",
       "  <tbody>\n",
       "    <tr>\n",
       "      <th>37</th>\n",
       "      <td>twitterMention depends how we define race I st...</td>\n",
       "      <td>offensive language</td>\n",
       "      <td>s1</td>\n",
       "      <td>0.671837</td>\n",
       "      <td>36</td>\n",
       "      <td>1</td>\n",
       "      <td>0.000</td>\n",
       "      <td>0.143</td>\n",
       "      <td>0.857</td>\n",
       "      <td>-0.5423</td>\n",
       "    </tr>\n",
       "    <tr>\n",
       "      <th>45</th>\n",
       "      <td>Lol I Hate When Females Say All Niggas AlikeNo...</td>\n",
       "      <td>offensive language</td>\n",
       "      <td>s1</td>\n",
       "      <td>0.510655</td>\n",
       "      <td>40</td>\n",
       "      <td>0</td>\n",
       "      <td>0.188</td>\n",
       "      <td>0.409</td>\n",
       "      <td>0.403</td>\n",
       "      <td>-0.5106</td>\n",
       "    </tr>\n",
       "    <tr>\n",
       "      <th>47</th>\n",
       "      <td>Not All White People Are Alike  Some Are Just ...</td>\n",
       "      <td>offensive language</td>\n",
       "      <td>s1</td>\n",
       "      <td>0.763846</td>\n",
       "      <td>73</td>\n",
       "      <td>0</td>\n",
       "      <td>0.000</td>\n",
       "      <td>0.268</td>\n",
       "      <td>0.732</td>\n",
       "      <td>-0.6597</td>\n",
       "    </tr>\n",
       "    <tr>\n",
       "      <th>51</th>\n",
       "      <td>I literally HATE this generation Yall lame lik...</td>\n",
       "      <td>offensive language</td>\n",
       "      <td>s1</td>\n",
       "      <td>0.668560</td>\n",
       "      <td>53</td>\n",
       "      <td>1</td>\n",
       "      <td>0.099</td>\n",
       "      <td>0.503</td>\n",
       "      <td>0.398</td>\n",
       "      <td>-0.8788</td>\n",
       "    </tr>\n",
       "    <tr>\n",
       "      <th>74</th>\n",
       "      <td>Wallahi i only love the muslims for the sake o...</td>\n",
       "      <td>offensive language</td>\n",
       "      <td>s1</td>\n",
       "      <td>0.683291</td>\n",
       "      <td>77</td>\n",
       "      <td>0</td>\n",
       "      <td>0.129</td>\n",
       "      <td>0.227</td>\n",
       "      <td>0.644</td>\n",
       "      <td>-0.4939</td>\n",
       "    </tr>\n",
       "  </tbody>\n",
       "</table>\n",
       "</div>"
      ],
      "text/plain": [
       "                                                 text               label set  \\\n",
       "37  twitterMention depends how we define race I st...  offensive language  s1   \n",
       "45  Lol I Hate When Females Say All Niggas AlikeNo...  offensive language  s1   \n",
       "47  Not All White People Are Alike  Some Are Just ...  offensive language  s1   \n",
       "51  I literally HATE this generation Yall lame lik...  offensive language  s1   \n",
       "74  Wallahi i only love the muslims for the sake o...  offensive language  s1   \n",
       "\n",
       "           r  percentage  slur_count  pos_score  neg_score  neu_score  \\\n",
       "37  0.671837          36           1      0.000      0.143      0.857   \n",
       "45  0.510655          40           0      0.188      0.409      0.403   \n",
       "47  0.763846          73           0      0.000      0.268      0.732   \n",
       "51  0.668560          53           1      0.099      0.503      0.398   \n",
       "74  0.683291          77           0      0.129      0.227      0.644   \n",
       "\n",
       "    compound_score  \n",
       "37         -0.5423  \n",
       "45         -0.5106  \n",
       "47         -0.6597  \n",
       "51         -0.8788  \n",
       "74         -0.4939  "
      ]
     },
     "execution_count": 42,
     "metadata": {},
     "output_type": "execute_result"
    }
   ],
   "source": [
    "offensive_df = df[df['label'] == 'offensive language']\n",
    "offensive_df.head()"
   ]
  },
  {
   "cell_type": "code",
   "execution_count": 43,
   "metadata": {},
   "outputs": [
    {
     "data": {
      "text/html": [
       "<div>\n",
       "<style>\n",
       "    .dataframe thead tr:only-child th {\n",
       "        text-align: right;\n",
       "    }\n",
       "\n",
       "    .dataframe thead th {\n",
       "        text-align: left;\n",
       "    }\n",
       "\n",
       "    .dataframe tbody tr th {\n",
       "        vertical-align: top;\n",
       "    }\n",
       "</style>\n",
       "<table border=\"1\" class=\"dataframe\">\n",
       "  <thead>\n",
       "    <tr style=\"text-align: right;\">\n",
       "      <th></th>\n",
       "      <th>text</th>\n",
       "      <th>label</th>\n",
       "      <th>set</th>\n",
       "      <th>r</th>\n",
       "      <th>percentage</th>\n",
       "      <th>slur_count</th>\n",
       "      <th>pos_score</th>\n",
       "      <th>neg_score</th>\n",
       "      <th>neu_score</th>\n",
       "      <th>compound_score</th>\n",
       "    </tr>\n",
       "  </thead>\n",
       "  <tbody>\n",
       "    <tr>\n",
       "      <th>121</th>\n",
       "      <td>Leak 12 ISIS Terrorists Vetted amp Let into Am...</td>\n",
       "      <td>hate speech</td>\n",
       "      <td>s1</td>\n",
       "      <td>0.429679</td>\n",
       "      <td>60</td>\n",
       "      <td>0</td>\n",
       "      <td>0.000</td>\n",
       "      <td>0.426</td>\n",
       "      <td>0.574</td>\n",
       "      <td>-0.8362</td>\n",
       "    </tr>\n",
       "    <tr>\n",
       "      <th>217</th>\n",
       "      <td>If TRUMP is recruiting fr IS hes actually doin...</td>\n",
       "      <td>hate speech</td>\n",
       "      <td>s1</td>\n",
       "      <td>0.048328</td>\n",
       "      <td>77</td>\n",
       "      <td>1</td>\n",
       "      <td>0.140</td>\n",
       "      <td>0.128</td>\n",
       "      <td>0.732</td>\n",
       "      <td>0.0857</td>\n",
       "    </tr>\n",
       "    <tr>\n",
       "      <th>269</th>\n",
       "      <td>twitterMention twitterMention twitterMention Y...</td>\n",
       "      <td>hate speech</td>\n",
       "      <td>s1</td>\n",
       "      <td>0.475659</td>\n",
       "      <td>50</td>\n",
       "      <td>0</td>\n",
       "      <td>0.238</td>\n",
       "      <td>0.161</td>\n",
       "      <td>0.601</td>\n",
       "      <td>0.2593</td>\n",
       "    </tr>\n",
       "    <tr>\n",
       "      <th>383</th>\n",
       "      <td>‰гў‰ЫТМК hongkongslut Meko Fung looking like a...</td>\n",
       "      <td>hate speech</td>\n",
       "      <td>s1</td>\n",
       "      <td>0.770507</td>\n",
       "      <td>6</td>\n",
       "      <td>3</td>\n",
       "      <td>0.121</td>\n",
       "      <td>0.106</td>\n",
       "      <td>0.773</td>\n",
       "      <td>0.0772</td>\n",
       "    </tr>\n",
       "    <tr>\n",
       "      <th>386</th>\n",
       "      <td>i love chink lmfao</td>\n",
       "      <td>hate speech</td>\n",
       "      <td>s1</td>\n",
       "      <td>0.573615</td>\n",
       "      <td>14</td>\n",
       "      <td>2</td>\n",
       "      <td>0.885</td>\n",
       "      <td>0.000</td>\n",
       "      <td>0.115</td>\n",
       "      <td>0.8271</td>\n",
       "    </tr>\n",
       "  </tbody>\n",
       "</table>\n",
       "</div>"
      ],
      "text/plain": [
       "                                                  text        label set  \\\n",
       "121  Leak 12 ISIS Terrorists Vetted amp Let into Am...  hate speech  s1   \n",
       "217  If TRUMP is recruiting fr IS hes actually doin...  hate speech  s1   \n",
       "269  twitterMention twitterMention twitterMention Y...  hate speech  s1   \n",
       "383  ‰гў‰ЫТМК hongkongslut Meko Fung looking like a...  hate speech  s1   \n",
       "386                                 i love chink lmfao  hate speech  s1   \n",
       "\n",
       "            r  percentage  slur_count  pos_score  neg_score  neu_score  \\\n",
       "121  0.429679          60           0      0.000      0.426      0.574   \n",
       "217  0.048328          77           1      0.140      0.128      0.732   \n",
       "269  0.475659          50           0      0.238      0.161      0.601   \n",
       "383  0.770507           6           3      0.121      0.106      0.773   \n",
       "386  0.573615          14           2      0.885      0.000      0.115   \n",
       "\n",
       "     compound_score  \n",
       "121         -0.8362  \n",
       "217          0.0857  \n",
       "269          0.2593  \n",
       "383          0.0772  \n",
       "386          0.8271  "
      ]
     },
     "execution_count": 43,
     "metadata": {},
     "output_type": "execute_result"
    }
   ],
   "source": [
    "hate_df = df[df['label'] == 'hate speech']\n",
    "hate_df.head()"
   ]
  },
  {
   "cell_type": "code",
   "execution_count": 44,
   "metadata": {},
   "outputs": [],
   "source": [
    "# df.groupby('label').plot(x=['neu_score'],y = ['neg_score'], kind='bar')"
   ]
  },
  {
   "cell_type": "code",
   "execution_count": 45,
   "metadata": {
    "scrolled": true
   },
   "outputs": [
    {
     "data": {
      "text/html": [
       "<div>\n",
       "<style>\n",
       "    .dataframe thead tr:only-child th {\n",
       "        text-align: right;\n",
       "    }\n",
       "\n",
       "    .dataframe thead th {\n",
       "        text-align: left;\n",
       "    }\n",
       "\n",
       "    .dataframe tbody tr th {\n",
       "        vertical-align: top;\n",
       "    }\n",
       "</style>\n",
       "<table border=\"1\" class=\"dataframe\">\n",
       "  <thead>\n",
       "    <tr style=\"text-align: right;\">\n",
       "      <th></th>\n",
       "      <th>r</th>\n",
       "      <th>percentage</th>\n",
       "      <th>slur_count</th>\n",
       "      <th>pos_score</th>\n",
       "      <th>neg_score</th>\n",
       "      <th>neu_score</th>\n",
       "      <th>compound_score</th>\n",
       "    </tr>\n",
       "    <tr>\n",
       "      <th>label</th>\n",
       "      <th></th>\n",
       "      <th></th>\n",
       "      <th></th>\n",
       "      <th></th>\n",
       "      <th></th>\n",
       "      <th></th>\n",
       "      <th></th>\n",
       "    </tr>\n",
       "  </thead>\n",
       "  <tbody>\n",
       "    <tr>\n",
       "      <th>hate speech</th>\n",
       "      <td>0.496682</td>\n",
       "      <td>50.190176</td>\n",
       "      <td>1.269102</td>\n",
       "      <td>0.070753</td>\n",
       "      <td>0.343435</td>\n",
       "      <td>0.585825</td>\n",
       "      <td>-0.463952</td>\n",
       "    </tr>\n",
       "    <tr>\n",
       "      <th>neutral</th>\n",
       "      <td>0.509422</td>\n",
       "      <td>50.444919</td>\n",
       "      <td>0.091410</td>\n",
       "      <td>0.115712</td>\n",
       "      <td>0.098397</td>\n",
       "      <td>0.785888</td>\n",
       "      <td>0.036322</td>\n",
       "    </tr>\n",
       "    <tr>\n",
       "      <th>offensive language</th>\n",
       "      <td>0.503490</td>\n",
       "      <td>50.483254</td>\n",
       "      <td>1.160183</td>\n",
       "      <td>0.083793</td>\n",
       "      <td>0.284667</td>\n",
       "      <td>0.631547</td>\n",
       "      <td>-0.373646</td>\n",
       "    </tr>\n",
       "  </tbody>\n",
       "</table>\n",
       "</div>"
      ],
      "text/plain": [
       "                           r  percentage  slur_count  pos_score  neg_score  \\\n",
       "label                                                                        \n",
       "hate speech         0.496682   50.190176    1.269102   0.070753   0.343435   \n",
       "neutral             0.509422   50.444919    0.091410   0.115712   0.098397   \n",
       "offensive language  0.503490   50.483254    1.160183   0.083793   0.284667   \n",
       "\n",
       "                    neu_score  compound_score  \n",
       "label                                          \n",
       "hate speech          0.585825       -0.463952  \n",
       "neutral              0.785888        0.036322  \n",
       "offensive language   0.631547       -0.373646  "
      ]
     },
     "execution_count": 45,
     "metadata": {},
     "output_type": "execute_result"
    }
   ],
   "source": [
    "grouped_df = df.groupby('label').mean()\n",
    "grouped_df.head()"
   ]
  },
  {
   "cell_type": "markdown",
   "metadata": {},
   "source": [
    "From this we can again see that this would correctly identify neutral and provide some benefit in distinguishing hateful and offesnive speech, but not by much. I think this may be a shortcoming of the dictionary used itself, being a filter for all slurs not specifically hate speech. I will briefly seek out a hateful slur list if possible."
   ]
  },
  {
   "cell_type": "code",
   "execution_count": 1,
   "metadata": {},
   "outputs": [
    {
     "ename": "NameError",
     "evalue": "name 'grouped_df' is not defined",
     "output_type": "error",
     "traceback": [
      "\u001b[0;31m---------------------------------------------------------------------------\u001b[0m",
      "\u001b[0;31mNameError\u001b[0m                                 Traceback (most recent call last)",
      "\u001b[0;32m<ipython-input-1-d62da976da3b>\u001b[0m in \u001b[0;36m<module>\u001b[0;34m()\u001b[0m\n\u001b[0;32m----> 1\u001b[0;31m \u001b[0mgrouped_df\u001b[0m\u001b[0;34m.\u001b[0m\u001b[0mplot\u001b[0m\u001b[0;34m(\u001b[0m\u001b[0my\u001b[0m\u001b[0;34m=\u001b[0m\u001b[0;34m[\u001b[0m\u001b[0;34m'slur_count'\u001b[0m\u001b[0;34m]\u001b[0m\u001b[0;34m,\u001b[0m \u001b[0mkind\u001b[0m\u001b[0;34m=\u001b[0m\u001b[0;34m'bar'\u001b[0m\u001b[0;34m)\u001b[0m\u001b[0;34m\u001b[0m\u001b[0m\n\u001b[0m",
      "\u001b[0;31mNameError\u001b[0m: name 'grouped_df' is not defined"
     ]
    }
   ],
   "source": [
    "grouped_df.plot(y=['slur_count'], kind='bar')"
   ]
  },
  {
   "cell_type": "code",
   "execution_count": 46,
   "metadata": {},
   "outputs": [
    {
     "data": {
      "text/plain": [
       "<matplotlib.axes.AxesSubplot at 0x10da55a10>"
      ]
     },
     "execution_count": 46,
     "metadata": {},
     "output_type": "execute_result"
    },
    {
     "data": {
      "image/png": "[encoded data removed]",
      "text/plain": [
       "<matplotlib.figure.Figure at 0x10da555d0>"
      ]
     },
     "metadata": {},
     "output_type": "display_data"
    }
   ],
   "source": [
    "grouped_df.plot(y=['neu_score'], kind='bar')"
   ]
  },
  {
   "cell_type": "code",
   "execution_count": 47,
   "metadata": {},
   "outputs": [
    {
     "data": {
      "text/plain": [
       "<matplotlib.axes.AxesSubplot at 0x10f2a5bd0>"
      ]
     },
     "execution_count": 47,
     "metadata": {},
     "output_type": "execute_result"
    },
    {
     "data": {
      "image/png": "[encoded data removed]",
      "text/plain": [
       "<matplotlib.figure.Figure at 0x10f2abf10>"
      ]
     },
     "metadata": {},
     "output_type": "display_data"
    }
   ],
   "source": [
    "grouped_df.plot(y=['neg_score'], kind='bar')"
   ]
  },
  {
   "cell_type": "code",
   "execution_count": 48,
   "metadata": {},
   "outputs": [
    {
     "data": {
      "text/plain": [
       "<matplotlib.axes.AxesSubplot at 0x10f49fb50>"
      ]
     },
     "execution_count": 48,
     "metadata": {},
     "output_type": "execute_result"
    },
    {
     "data": {
      "image/png": "[encoded data removed]",
      "text/plain": [
       "<matplotlib.figure.Figure at 0x10f4a6690>"
      ]
     },
     "metadata": {},
     "output_type": "display_data"
    }
   ],
   "source": [
    "grouped_df.plot(y=['pos_score'], kind='bar')"
   ]
  },
  {
   "cell_type": "code",
   "execution_count": 49,
   "metadata": {},
   "outputs": [
    {
     "data": {
      "text/plain": [
       "<matplotlib.axes.AxesSubplot at 0x10f54e410>"
      ]
     },
     "execution_count": 49,
     "metadata": {},
     "output_type": "execute_result"
    },
    {
     "data": {
      "image/png": "[encoded data removed]",
      "text/plain": [
       "<matplotlib.figure.Figure at 0x10f5638d0>"
      ]
     },
     "metadata": {},
     "output_type": "display_data"
    }
   ],
   "source": [
    "grouped_df.plot(y=['compound_score'], kind='bar')"
   ]
  },
  {
   "cell_type": "markdown",
   "metadata": {},
   "source": [
    "### Sentiment Analysis results\n",
    "This looks like it could be quite useful, neutral and negative sentiments seem to quite strongly correlate with their apropriate labels. This simply leaves a need for a way to distinguish between offensive and hateful speech. We can try my trivial list of hateful words. What i have found is the Facebook list of words to block, again this is probably limited to English, but I think it will make a good attempt."
   ]
  }
 ],
 "metadata": {
  "kernelspec": {
   "display_name": "Python 2",
   "language": "python",
   "name": "python2"
  },
  "language_info": {
   "codemirror_mode": {
    "name": "ipython",
    "version": 2
   },
   "file_extension": ".py",
   "mimetype": "text/x-python",
   "name": "python",
   "nbconvert_exporter": "python",
   "pygments_lexer": "ipython2",
   "version": "2.7.13"
  }
 },
 "nbformat": 4,
 "nbformat_minor": 2
}
